{
 "cells": [
  {
   "cell_type": "code",
   "execution_count": null,
   "metadata": {},
   "outputs": [],
   "source": []
  },
  {
   "cell_type": "code",
   "execution_count": 1,
   "metadata": {},
   "outputs": [],
   "source": [
    "import pandas as pd\n",
    "import numpy as np\n",
    "import matplotlib.pyplot as plt\n",
    "import matplotlib\n",
    "import seaborn as sns\n",
    "from sklearn.preprocessing import StandardScaler\n",
    "from sklearn.decomposition import PCA\n",
    "from sklearn.cluster import KMeans"
   ]
  },
  {
   "cell_type": "code",
   "execution_count": 2,
   "metadata": {},
   "outputs": [],
   "source": [
    "import import_ipynb\n",
    "#import Scaling_methods as scaling"
   ]
  },
  {
   "cell_type": "markdown",
   "metadata": {},
   "source": [
    "font = {'family' : 'normal',\n",
    "        'weight' : 'bold',\n",
    "        'size'   : 14}\n",
    "\n",
    "matplotlib.rc('font', **font)\n",
    "\n",
    "matplotlib.rc('axes', titlesize=14)\n",
    "matplotlib.rc('xtick', labelsize=14)     \n",
    "matplotlib.rc('ytick', labelsize=20)"
   ]
  },
  {
   "cell_type": "markdown",
   "metadata": {},
   "source": [
    "import matplotlib.pylab as pylab\n",
    "params = {'legend.fontsize': 12,\n",
    "         'axes.labelsize': 16,\n",
    "         'axes.titlesize':16,\n",
    "         'xtick.labelsize':10,\n",
    "         'ytick.labelsize':10}\n",
    "pylab.rcParams.update(params)"
   ]
  },
  {
   "cell_type": "code",
   "execution_count": 3,
   "metadata": {},
   "outputs": [],
   "source": [
    "#features used\n",
    "index = ['u (m/s)', 'T (K)', 'H2', 'H', 'O', 'O2', 'OH',\n",
    "       'H2O', 'HO2', 'H2O2', 'C', 'CH', 'CH2', 'CH2(S)', 'CH3', 'CH4', 'CO',\n",
    "       'CO2', 'HCO', 'CH2O', 'CH2OH', 'CH3O', 'CH3OH', 'C2H', 'C2H2', 'C2H3',\n",
    "       'C2H4', 'C2H5', 'C2H6', 'HCCO', 'CH2CO', 'HCCOH', 'N', 'NH', 'NH2',\n",
    "       'NH3', 'NNH', 'NO', 'NO2', 'N2O', 'HNO', 'CN', 'HCN', 'H2CN', 'HCNN',\n",
    "       'HCNO', 'HOCN', 'HNCO', 'NCO', 'N2', 'AR', 'C3H7', 'C3H8', 'CH2CHO',\n",
    "       'CH3CHO']\n",
    "# target\n",
    "target_name = ['Tin']"
   ]
  },
  {
   "cell_type": "code",
   "execution_count": 4,
   "metadata": {},
   "outputs": [],
   "source": [
    "Y_pf = pd.read_csv(\"Y_pf.csv\", sep=',', names = index) #shape: (26000, 55)"
   ]
  },
  {
   "cell_type": "code",
   "execution_count": 5,
   "metadata": {},
   "outputs": [
    {
     "data": {
      "text/html": [
       "<div>\n",
       "<style scoped>\n",
       "    .dataframe tbody tr th:only-of-type {\n",
       "        vertical-align: middle;\n",
       "    }\n",
       "\n",
       "    .dataframe tbody tr th {\n",
       "        vertical-align: top;\n",
       "    }\n",
       "\n",
       "    .dataframe thead th {\n",
       "        text-align: right;\n",
       "    }\n",
       "</style>\n",
       "<table border=\"1\" class=\"dataframe\">\n",
       "  <thead>\n",
       "    <tr style=\"text-align: right;\">\n",
       "      <th></th>\n",
       "      <th>unknown_1</th>\n",
       "      <th>unknown_2</th>\n",
       "      <th>Tin</th>\n",
       "    </tr>\n",
       "  </thead>\n",
       "  <tbody>\n",
       "    <tr>\n",
       "      <th>0</th>\n",
       "      <td>0.011614</td>\n",
       "      <td>0.085258</td>\n",
       "      <td>500</td>\n",
       "    </tr>\n",
       "    <tr>\n",
       "      <th>1</th>\n",
       "      <td>0.017166</td>\n",
       "      <td>0.085258</td>\n",
       "      <td>900</td>\n",
       "    </tr>\n",
       "    <tr>\n",
       "      <th>2</th>\n",
       "      <td>0.018035</td>\n",
       "      <td>0.033771</td>\n",
       "      <td>500</td>\n",
       "    </tr>\n",
       "    <tr>\n",
       "      <th>3</th>\n",
       "      <td>0.013240</td>\n",
       "      <td>0.028302</td>\n",
       "      <td>300</td>\n",
       "    </tr>\n",
       "    <tr>\n",
       "      <th>4</th>\n",
       "      <td>0.014744</td>\n",
       "      <td>0.060219</td>\n",
       "      <td>900</td>\n",
       "    </tr>\n",
       "  </tbody>\n",
       "</table>\n",
       "</div>"
      ],
      "text/plain": [
       "   unknown_1  unknown_2  Tin\n",
       "0   0.011614   0.085258  500\n",
       "1   0.017166   0.085258  900\n",
       "2   0.018035   0.033771  500\n",
       "3   0.013240   0.028302  300\n",
       "4   0.014744   0.060219  900"
      ]
     },
     "execution_count": 5,
     "metadata": {},
     "output_type": "execute_result"
    }
   ],
   "source": [
    "X_pf = pd.read_csv(\"X.csv\", sep=',', names = ['unknown_1', 'unknown_2', 'Tin']) #shape: (25999, 3) \n",
    "X_pf.head()\n"
   ]
  },
  {
   "cell_type": "code",
   "execution_count": 6,
   "metadata": {},
   "outputs": [],
   "source": [
    "# Features\n",
    "#df = new_labels  #shape:\n",
    "df = Y_pf         #shape:\n",
    "\n",
    "# target\n",
    "#target = labels['Tin']  #shape:\n",
    "target = X_pf['Tin']     #shape:"
   ]
  },
  {
   "cell_type": "code",
   "execution_count": 7,
   "metadata": {},
   "outputs": [],
   "source": [
    "df_with_target = pd.concat([Y_pf, target],axis=1)"
   ]
  },
  {
   "cell_type": "code",
   "execution_count": 8,
   "metadata": {},
   "outputs": [],
   "source": [
    "Y_pf_sampled = df_with_target.loc[df_with_target['Tin'] == 300]\n",
    "Y_pf_sampled.head()\n",
    "X_sampled = Y_pf_sampled.drop(['Tin'], axis =1)"
   ]
  },
  {
   "cell_type": "code",
   "execution_count": 9,
   "metadata": {},
   "outputs": [
    {
     "data": {
      "text/plain": [
       "\"sns.pairplot(X_sampled[['HO2', 'H2O2', 'C', 'CH', 'CH2', 'CH2(S)', \\n       'H2O', 'C3H8', 'CH2CHO', 'CH3', 'CH4', 'CO',\\n       'CO2', 'HCO', 'CH2O', 'CH2OH', 'CH3O', 'CH3OH',\\n       'CH3CHO']], size=3);\""
      ]
     },
     "execution_count": 9,
     "metadata": {},
     "output_type": "execute_result"
    }
   ],
   "source": [
    "\"\"\"sns.pairplot(X_sampled[['HO2', 'H2O2', 'C', 'CH', 'CH2', 'CH2(S)', \n",
    "       'H2O', 'C3H8', 'CH2CHO', 'CH3', 'CH4', 'CO',\n",
    "       'CO2', 'HCO', 'CH2O', 'CH2OH', 'CH3O', 'CH3OH',\n",
    "       'CH3CHO']], size=3);\"\"\""
   ]
  },
  {
   "cell_type": "code",
   "execution_count": 10,
   "metadata": {},
   "outputs": [
    {
     "data": {
      "text/plain": [
       "Text(0,0.5,'H2O')"
      ]
     },
     "execution_count": 10,
     "metadata": {},
     "output_type": "execute_result"
    },
    {
     "data": {
      "image/png": "[encoded data removed]",
      "text/plain": [
       "<Figure size 432x432 with 1 Axes>"
      ]
     },
     "metadata": {},
     "output_type": "display_data"
    }
   ],
   "source": [
    "plt.figure(figsize=(6,6));\n",
    "y = X_sampled['CH4']\n",
    "x = X_sampled['CO2']\n",
    "plt.scatter(x, y);\n",
    "plt.xlabel('T (K)')\n",
    "plt.ylabel(\"H2O\")"
   ]
  },
  {
   "cell_type": "code",
   "execution_count": 11,
   "metadata": {},
   "outputs": [
    {
     "data": {
      "text/plain": [
       "Text(0,0.5,'H2O')"
      ]
     },
     "execution_count": 11,
     "metadata": {},
     "output_type": "execute_result"
    },
    {
     "data": {
      "image/png": "[encoded data removed]",
      "text/plain": [
       "<Figure size 432x432 with 1 Axes>"
      ]
     },
     "metadata": {},
     "output_type": "display_data"
    }
   ],
   "source": [
    "\n",
    "\n",
    "\n",
    "plt.figure(figsize=(6,6));\n",
    "y = X_sampled['H2O']\n",
    "x = X_sampled['CH2O']\n",
    "plt.scatter(x, y);\n",
    "plt.xlabel('T (K)')\n",
    "plt.ylabel(\"H2O\")"
   ]
  },
  {
   "cell_type": "code",
   "execution_count": 12,
   "metadata": {},
   "outputs": [],
   "source": [
    "class RangeScaler():\n",
    "    def __init__(self):\n",
    "        return None\n",
    "\n",
    "    def transform(self, X):\n",
    "        \"\"\"Centring and Scaling the features of X\"\"\"\n",
    "        X = np.asarray(X)\n",
    "        X = np.float64(X)\n",
    "        sd = np.std(X, axis=0)\n",
    "        Z = X/(np.max(X, axis=0)-np.min(X, axis=0))\n",
    "        return Z\n",
    "    \n",
    "    def fit_transform(self, X):\n",
    "        \"\"\"Centring and Scaling the features of X\"\"\"\n",
    "        X = np.asarray(X)\n",
    "        X = np.float64(X)\n",
    "        sd = np.std(X, axis=0)\n",
    "        X_mean = X.mean(axis=0)\n",
    "        X_center = X-X_mean\n",
    "        Z = X_center/(np.max(X, axis=0)-np.min(X, axis=0))\n",
    "        return Z"
   ]
  },
  {
   "cell_type": "code",
   "execution_count": 13,
   "metadata": {},
   "outputs": [],
   "source": [
    "f1 = 'H2O'\n",
    "f2 = 'CH2O'\n",
    "X = pd.concat([X_sampled[f1],X_sampled[f2]], axis =1)\n",
    "range_scaler = RangeScaler()\n",
    "X_range_scaled = range_scaler.fit_transform(X)"
   ]
  },
  {
   "cell_type": "code",
   "execution_count": 14,
   "metadata": {},
   "outputs": [
    {
     "data": {
      "text/plain": [
       "(6500, 2)"
      ]
     },
     "execution_count": 14,
     "metadata": {},
     "output_type": "execute_result"
    }
   ],
   "source": [
    "X_range_scaled.shape"
   ]
  },
  {
   "cell_type": "code",
   "execution_count": 15,
   "metadata": {},
   "outputs": [
    {
     "data": {
      "text/plain": [
       "Text(0.5,0,'T (K)')"
      ]
     },
     "execution_count": 15,
     "metadata": {},
     "output_type": "execute_result"
    },
    {
     "data": {
      "image/png": "[encoded data removed]",
      "text/plain": [
       "<Figure size 432x432 with 1 Axes>"
      ]
     },
     "metadata": {},
     "output_type": "display_data"
    }
   ],
   "source": [
    "plt.figure(figsize=(6,6));\n",
    "y = X_range_scaled[:,0]\n",
    "x = X_range_scaled[:,1]\n",
    "plt.scatter(x, y);\n",
    "plt.xlabel('T (K)')"
   ]
  },
  {
   "cell_type": "code",
   "execution_count": 19,
   "metadata": {},
   "outputs": [
    {
     "data": {
      "text/plain": [
       "(6500, 3)"
      ]
     },
     "execution_count": 19,
     "metadata": {},
     "output_type": "execute_result"
    }
   ],
   "source": [
    "# Create an instance for KMeans\n",
    "\n",
    "X_range_scaled = pd.DataFrame(X_range_scaled, columns=[f1, f2])\n",
    "kmeans = KMeans(n_clusters=3,  random_state=0)\n",
    "kmeans.fit(X_range_scaled)\n",
    "df_labels = pd.DataFrame(kmeans.labels_, columns=['kmeans_idx'])\n",
    "kmeans_labels = pd.concat([X_range_scaled, df_labels], axis=1)\n",
    "kmeans_labels.shape\n",
    "df_labels.kmeans_idx.value_counts()\n",
    "kmeans_labels.head()\n",
    "kmeans_labels.shape"
   ]
  },
  {
   "cell_type": "code",
   "execution_count": 20,
   "metadata": {},
   "outputs": [
    {
     "data": {
      "text/html": [
       "<div>\n",
       "<style scoped>\n",
       "    .dataframe tbody tr th:only-of-type {\n",
       "        vertical-align: middle;\n",
       "    }\n",
       "\n",
       "    .dataframe tbody tr th {\n",
       "        vertical-align: top;\n",
       "    }\n",
       "\n",
       "    .dataframe thead th {\n",
       "        text-align: right;\n",
       "    }\n",
       "</style>\n",
       "<table border=\"1\" class=\"dataframe\">\n",
       "  <thead>\n",
       "    <tr style=\"text-align: right;\">\n",
       "      <th></th>\n",
       "      <th>H2O</th>\n",
       "      <th>CH2O</th>\n",
       "      <th>kmeans_idx</th>\n",
       "    </tr>\n",
       "  </thead>\n",
       "  <tbody>\n",
       "    <tr>\n",
       "      <th>1</th>\n",
       "      <td>0.459799</td>\n",
       "      <td>-0.041601</td>\n",
       "      <td>1</td>\n",
       "    </tr>\n",
       "    <tr>\n",
       "      <th>5</th>\n",
       "      <td>0.485404</td>\n",
       "      <td>-0.041601</td>\n",
       "      <td>1</td>\n",
       "    </tr>\n",
       "    <tr>\n",
       "      <th>8</th>\n",
       "      <td>0.509767</td>\n",
       "      <td>-0.041480</td>\n",
       "      <td>1</td>\n",
       "    </tr>\n",
       "    <tr>\n",
       "      <th>10</th>\n",
       "      <td>0.552226</td>\n",
       "      <td>-0.041601</td>\n",
       "      <td>1</td>\n",
       "    </tr>\n",
       "    <tr>\n",
       "      <th>12</th>\n",
       "      <td>0.098687</td>\n",
       "      <td>-0.041601</td>\n",
       "      <td>1</td>\n",
       "    </tr>\n",
       "  </tbody>\n",
       "</table>\n",
       "</div>"
      ],
      "text/plain": [
       "         H2O      CH2O  kmeans_idx\n",
       "1   0.459799 -0.041601           1\n",
       "5   0.485404 -0.041601           1\n",
       "8   0.509767 -0.041480           1\n",
       "10  0.552226 -0.041601           1\n",
       "12  0.098687 -0.041601           1"
      ]
     },
     "execution_count": 20,
     "metadata": {},
     "output_type": "execute_result"
    }
   ],
   "source": [
    "kmeans_clusters_idx = ['cluster_'+str(k+1) for k in range(10)]\n",
    "for k in range(10):\n",
    "    kmeans_clusters_idx[k] = kmeans_labels.loc[kmeans_labels['kmeans_idx'] == k] \n",
    "kmeans_clusters_idx[1].head()"
   ]
  },
  {
   "cell_type": "code",
   "execution_count": null,
   "metadata": {},
   "outputs": [],
   "source": [
    "fig, (ax1) = plt.subplots(ncols=1, figsize=(12, 8))\n",
    "\n",
    "surf1 = ax1.scatter(kmeans_labels[f1], kmeans_labels[f2],c=kmeans_labels['kmeans_idx'])\n",
    "ax1.set_xlabel('First principal component')\n",
    "ax1.set_ylabel('Second Principal Component')\n",
    "ax1.set_title('StandardScaler scaling: centring and scaling')\n",
    "fig.colorbar(surf1,label='kmeans_idx')"
   ]
  },
  {
   "cell_type": "code",
   "execution_count": null,
   "metadata": {},
   "outputs": [],
   "source": []
  },
  {
   "cell_type": "code",
   "execution_count": null,
   "metadata": {},
   "outputs": [],
   "source": []
  },
  {
   "cell_type": "code",
   "execution_count": null,
   "metadata": {},
   "outputs": [],
   "source": []
  },
  {
   "cell_type": "code",
   "execution_count": null,
   "metadata": {},
   "outputs": [],
   "source": []
  },
  {
   "cell_type": "code",
   "execution_count": null,
   "metadata": {},
   "outputs": [],
   "source": []
  }
 ],
 "metadata": {
  "kernelspec": {
   "display_name": "Python [default]",
   "language": "python",
   "name": "python3"
  },
  "language_info": {
   "codemirror_mode": {
    "name": "ipython",
    "version": 3
   },
   "file_extension": ".py",
   "mimetype": "text/x-python",
   "name": "python",
   "nbconvert_exporter": "python",
   "pygments_lexer": "ipython3",
   "version": "3.6.5"
  }
 },
 "nbformat": 4,
 "nbformat_minor": 2
}
