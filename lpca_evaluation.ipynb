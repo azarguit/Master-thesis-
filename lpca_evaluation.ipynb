{
 "cells": [
  {
   "cell_type": "code",
   "execution_count": null,
   "metadata": {},
   "outputs": [],
   "source": []
  },
  {
   "cell_type": "code",
   "execution_count": 18,
   "metadata": {},
   "outputs": [],
   "source": [
    "import pandas as pd\n",
    "import numpy as np\n",
    "import matplotlib.pyplot as plt\n",
    "import matplotlib\n",
    "import pickle\n",
    "import seaborn as sns\n",
    "from sklearn.preprocessing import StandardScaler\n",
    "from sklearn.decomposition import PCA\n",
    "from sklearn.cluster import KMeans"
   ]
  },
  {
   "cell_type": "code",
   "execution_count": 3,
   "metadata": {},
   "outputs": [],
   "source": [
    "import import_ipynb\n",
    "#import Scaling_methods as scaling"
   ]
  },
  {
   "cell_type": "markdown",
   "metadata": {},
   "source": [
    "font = {'family' : 'normal',\n",
    "        'weight' : 'bold',\n",
    "        'size'   : 14}\n",
    "\n",
    "matplotlib.rc('font', **font)\n",
    "\n",
    "matplotlib.rc('axes', titlesize=14)\n",
    "matplotlib.rc('xtick', labelsize=14)     \n",
    "matplotlib.rc('ytick', labelsize=20)"
   ]
  },
  {
   "cell_type": "markdown",
   "metadata": {},
   "source": [
    "import matplotlib.pylab as pylab\n",
    "params = {'legend.fontsize': 12,\n",
    "         'axes.labelsize': 16,\n",
    "         'axes.titlesize':16,\n",
    "         'xtick.labelsize':10,\n",
    "         'ytick.labelsize':10}\n",
    "pylab.rcParams.update(params)"
   ]
  },
  {
   "cell_type": "code",
   "execution_count": 4,
   "metadata": {},
   "outputs": [],
   "source": [
    "#features used\n",
    "index = ['u (m/s)', 'T (K)', 'H2', 'H', 'O', 'O2', 'OH',\n",
    "       'H2O', 'HO2', 'H2O2', 'C', 'CH', 'CH2', 'CH2(S)', 'CH3', 'CH4', 'CO',\n",
    "       'CO2', 'HCO', 'CH2O', 'CH2OH', 'CH3O', 'CH3OH', 'C2H', 'C2H2', 'C2H3',\n",
    "       'C2H4', 'C2H5', 'C2H6', 'HCCO', 'CH2CO', 'HCCOH', 'N', 'NH', 'NH2',\n",
    "       'NH3', 'NNH', 'NO', 'NO2', 'N2O', 'HNO', 'CN', 'HCN', 'H2CN', 'HCNN',\n",
    "       'HCNO', 'HOCN', 'HNCO', 'NCO', 'N2', 'AR', 'C3H7', 'C3H8', 'CH2CHO',\n",
    "       'CH3CHO']\n",
    "# target\n",
    "target_name = ['Tin']"
   ]
  },
  {
   "cell_type": "code",
   "execution_count": 5,
   "metadata": {},
   "outputs": [],
   "source": [
    "Y_pf = pd.read_csv(\"Y_pf.csv\", sep=',', names = index) #shape: (26000, 55)"
   ]
  },
  {
   "cell_type": "code",
   "execution_count": 6,
   "metadata": {},
   "outputs": [
    {
     "data": {
      "text/html": [
       "<div>\n",
       "<style scoped>\n",
       "    .dataframe tbody tr th:only-of-type {\n",
       "        vertical-align: middle;\n",
       "    }\n",
       "\n",
       "    .dataframe tbody tr th {\n",
       "        vertical-align: top;\n",
       "    }\n",
       "\n",
       "    .dataframe thead th {\n",
       "        text-align: right;\n",
       "    }\n",
       "</style>\n",
       "<table border=\"1\" class=\"dataframe\">\n",
       "  <thead>\n",
       "    <tr style=\"text-align: right;\">\n",
       "      <th></th>\n",
       "      <th>unknown_1</th>\n",
       "      <th>unknown_2</th>\n",
       "      <th>Tin</th>\n",
       "    </tr>\n",
       "  </thead>\n",
       "  <tbody>\n",
       "    <tr>\n",
       "      <th>0</th>\n",
       "      <td>0.011614</td>\n",
       "      <td>0.085258</td>\n",
       "      <td>500</td>\n",
       "    </tr>\n",
       "    <tr>\n",
       "      <th>1</th>\n",
       "      <td>0.017166</td>\n",
       "      <td>0.085258</td>\n",
       "      <td>900</td>\n",
       "    </tr>\n",
       "    <tr>\n",
       "      <th>2</th>\n",
       "      <td>0.018035</td>\n",
       "      <td>0.033771</td>\n",
       "      <td>500</td>\n",
       "    </tr>\n",
       "    <tr>\n",
       "      <th>3</th>\n",
       "      <td>0.013240</td>\n",
       "      <td>0.028302</td>\n",
       "      <td>300</td>\n",
       "    </tr>\n",
       "    <tr>\n",
       "      <th>4</th>\n",
       "      <td>0.014744</td>\n",
       "      <td>0.060219</td>\n",
       "      <td>900</td>\n",
       "    </tr>\n",
       "  </tbody>\n",
       "</table>\n",
       "</div>"
      ],
      "text/plain": [
       "   unknown_1  unknown_2  Tin\n",
       "0   0.011614   0.085258  500\n",
       "1   0.017166   0.085258  900\n",
       "2   0.018035   0.033771  500\n",
       "3   0.013240   0.028302  300\n",
       "4   0.014744   0.060219  900"
      ]
     },
     "execution_count": 6,
     "metadata": {},
     "output_type": "execute_result"
    }
   ],
   "source": [
    "X_pf = pd.read_csv(\"X.csv\", sep=',', names = ['unknown_1', 'unknown_2', 'Tin']) #shape: (25999, 3) \n",
    "X_pf.head()\n"
   ]
  },
  {
   "cell_type": "code",
   "execution_count": 7,
   "metadata": {},
   "outputs": [],
   "source": [
    "# Features\n",
    "#df = new_labels  #shape:\n",
    "df = Y_pf         #shape:\n",
    "\n",
    "# target\n",
    "#target = labels['Tin']  #shape:\n",
    "target = X_pf['Tin']     #shape:"
   ]
  },
  {
   "cell_type": "code",
   "execution_count": 8,
   "metadata": {},
   "outputs": [],
   "source": [
    "df_with_target = pd.concat([Y_pf, target],axis=1)"
   ]
  },
  {
   "cell_type": "code",
   "execution_count": 9,
   "metadata": {},
   "outputs": [],
   "source": [
    "Y_pf_sampled = df_with_target.loc[df_with_target['Tin'] == 300]\n",
    "Y_pf_sampled.head()\n",
    "X_sampled = Y_pf_sampled.drop(['Tin'], axis =1)"
   ]
  },
  {
   "cell_type": "code",
   "execution_count": null,
   "metadata": {},
   "outputs": [],
   "source": []
  },
  {
   "cell_type": "code",
   "execution_count": 10,
   "metadata": {},
   "outputs": [
    {
     "data": {
      "text/plain": [
       "Text(0,0.5,'H2O')"
      ]
     },
     "execution_count": 10,
     "metadata": {},
     "output_type": "execute_result"
    },
    {
     "data": {
      "image/png": "[encoded data removed]",
      "text/plain": [
       "<Figure size 432x432 with 1 Axes>"
      ]
     },
     "metadata": {},
     "output_type": "display_data"
    }
   ],
   "source": [
    "plt.figure(figsize=(6,6));\n",
    "y = X_sampled['CH4']\n",
    "x = X_sampled['CO2']\n",
    "plt.scatter(x, y);\n",
    "plt.xlabel('T (K)')\n",
    "plt.ylabel(\"H2O\")"
   ]
  },
  {
   "cell_type": "code",
   "execution_count": 11,
   "metadata": {},
   "outputs": [
    {
     "data": {
      "text/plain": [
       "Text(0,0.5,'H2O')"
      ]
     },
     "execution_count": 11,
     "metadata": {},
     "output_type": "execute_result"
    },
    {
     "data": {
      "image/png": "[encoded data removed]",
      "text/plain": [
       "<Figure size 432x432 with 1 Axes>"
      ]
     },
     "metadata": {},
     "output_type": "display_data"
    }
   ],
   "source": [
    "\n",
    "\n",
    "\n",
    "plt.figure(figsize=(6,6));\n",
    "y = X_sampled['H2O']\n",
    "x = X_sampled['CH2O']\n",
    "plt.scatter(x, y);\n",
    "plt.xlabel('T (K)')\n",
    "plt.ylabel(\"H2O\")"
   ]
  },
  {
   "cell_type": "code",
   "execution_count": 12,
   "metadata": {},
   "outputs": [],
   "source": [
    "class RangeScaler():\n",
    "    def __init__(self):\n",
    "        return None\n",
    "\n",
    "    def transform(self, X):\n",
    "        \"\"\"Centring and Scaling the features of X\"\"\"\n",
    "        X = np.asarray(X)\n",
    "        X = np.float64(X)\n",
    "        sd = np.std(X, axis=0)\n",
    "        Z = X/(np.max(X, axis=0)-np.min(X, axis=0))\n",
    "        return Z\n",
    "    \n",
    "    def fit_transform(self, X):\n",
    "        \"\"\"Centring and Scaling the features of X\"\"\"\n",
    "        X = np.asarray(X)\n",
    "        X = np.float64(X)\n",
    "        sd = np.std(X, axis=0)\n",
    "        X_mean = X.mean(axis=0)\n",
    "        X_center = X-X_mean\n",
    "        Z = X_center/(np.max(X, axis=0)-np.min(X, axis=0))\n",
    "        return Z"
   ]
  },
  {
   "cell_type": "code",
   "execution_count": 70,
   "metadata": {},
   "outputs": [],
   "source": [
    "f1 = 'H2O'\n",
    "f2 = 'CH2O'\n",
    "X = pd.concat([X_sampled[f1],X_sampled[f2]], axis =1)\n",
    "range_scaler = RangeScaler()\n",
    "X_range_scaled = range_scaler.fit_transform(X)"
   ]
  },
  {
   "cell_type": "code",
   "execution_count": 71,
   "metadata": {},
   "outputs": [
    {
     "data": {
      "text/plain": [
       "(6500, 2)"
      ]
     },
     "execution_count": 71,
     "metadata": {},
     "output_type": "execute_result"
    }
   ],
   "source": [
    "X_range_scaled.shape"
   ]
  },
  {
   "cell_type": "code",
   "execution_count": 72,
   "metadata": {},
   "outputs": [
    {
     "data": {
      "text/plain": [
       "Text(0.5,0,'T (K)')"
      ]
     },
     "execution_count": 72,
     "metadata": {},
     "output_type": "execute_result"
    },
    {
     "data": {
      "image/png": "[encoded data removed]",
      "text/plain": [
       "<Figure size 432x432 with 1 Axes>"
      ]
     },
     "metadata": {},
     "output_type": "display_data"
    }
   ],
   "source": [
    "plt.figure(figsize=(6,6));\n",
    "y = X_range_scaled[:,0]\n",
    "x = X_range_scaled[:,1]\n",
    "plt.scatter(x, y);\n",
    "plt.xlabel('T (K)')"
   ]
  },
  {
   "cell_type": "code",
   "execution_count": null,
   "metadata": {},
   "outputs": [],
   "source": []
  },
  {
   "cell_type": "code",
   "execution_count": 73,
   "metadata": {},
   "outputs": [],
   "source": [
    "def write_in_file(file_name, data):\n",
    "    \"\"\"store data in the given file in\n",
    "        binary mode with overwritng option\n",
    "\n",
    "        Input:\n",
    "                file_name : the name of the file\n",
    "                data : list or numpy array\"\"\"\n",
    "\n",
    "    with open(file_name, 'wb') as fp:\n",
    "        pickle.dump(data, fp)\n",
    "\n",
    "\n",
    "def read_from_file(file_name):\n",
    "    \"\"\"Read data from the given file in\n",
    "        binary mode\n",
    "\n",
    "        Input:\n",
    "                file_name : the name of the file\n",
    "        Ouput :\n",
    "                data : list or numpy array\"\"\"\n",
    "\n",
    "    with open(file_name, 'rb') as fp:\n",
    "        data = pickle.load(fp)\n",
    "    return data   "
   ]
  },
  {
   "cell_type": "code",
   "execution_count": 74,
   "metadata": {},
   "outputs": [],
   "source": [
    "path = r'C:\\Users\\azarguit\\Desktop\\master\\memoire\\case_study\\src_matlab' + '\\\\'\n",
    "input_file_name = path + 'input_data_set.txt'\n",
    "write_in_file(input_file_name, X_range_scaled)"
   ]
  },
  {
   "cell_type": "code",
   "execution_count": 80,
   "metadata": {},
   "outputs": [
    {
     "name": "stdout",
     "output_type": "stream",
     "text": [
      "(6500, 2)\n",
      "<class 'numpy.ndarray'>\n",
      "data input size of python array\n",
      "6500\n",
      "data input size of mlarray\n",
      "(6500, 2)\n",
      "clusters\n",
      "writing in files\n"
     ]
    }
   ],
   "source": [
    "\"\"\"\n",
    "Script for calling matlab functions and store the results into files\n",
    "\n",
    "Input  : file of numpy arrays:\n",
    "                               input_file_name = 'input_data_set.txt'\n",
    "                               \n",
    "Output : files of numpy arrays\n",
    "\"\"\"\n",
    "\n",
    "\n",
    "import matlab.engine\n",
    "import numpy as np\n",
    "import pickle\n",
    "import matlab\n",
    "\n",
    "\n",
    "\n",
    "def write_in_file(file_name, data):\n",
    "    \"\"\"store data in the given file in\n",
    "        binary mode with overwritng option\n",
    "\n",
    "        Input:\n",
    "                file_name : the name of the file\n",
    "                data : list or numpy array\"\"\"\n",
    "\n",
    "    with open(file_name, 'wb') as fp:\n",
    "        pickle.dump(data, fp)\n",
    "\n",
    "\n",
    "def read_from_file(file_name):\n",
    "    \"\"\"Read data from the given file in\n",
    "        binary mode\n",
    "\n",
    "        Input:\n",
    "                file_name : the name of the file\n",
    "        Ouput :\n",
    "                data : list or numpy array\"\"\"\n",
    "\n",
    "    with open(file_name, 'rb') as fp:\n",
    "        data = pickle.load(fp)\n",
    "    return data\n",
    "\n",
    "\n",
    "\n",
    "\n",
    "n_eigs = 20\n",
    "k = 2\n",
    "\n",
    "path = r'C:\\Users\\azarguit\\Desktop\\master\\memoire\\case_study\\src_matlab' + '\\\\'\n",
    "input_file_name = path + 'input_data_set.txt'\n",
    "\n",
    "\n",
    "data = read_from_file(input_file_name)\n",
    "print(data.shape)\n",
    "print(type(data))\n",
    "\n",
    "print('data input size of python array')\n",
    "data_list = data.tolist()\n",
    "print(len(data_list))\n",
    "\n",
    "X = matlab.double(data_list)\n",
    "\n",
    "print('data input size of mlarray')\n",
    "print(X.size)\n",
    "\n",
    "\n",
    "eng = matlab.engine.start_matlab()\n",
    "idx = eng.localPCA(X, n_eigs, k)\n",
    "\n",
    "clusters = eng.get_clusters(X, idx)\n",
    "\n",
    "print('clusters')\n",
    "\n",
    "\n",
    "eigvec, n_eig, gamma, u_scores, eigenvalues, centroids = eng.lpca(clusters, n_eigs, nargout=6)\n",
    "\n",
    "print('writing in files')\n",
    "\n",
    "idx_file_name = 'idx.txt'\n",
    "clusters_file_name = 'clusters.txt'\n",
    "eigvec_file_name = 'eigvec.txt'\n",
    "n_eig_file_name = 'n_eig.txt'\n",
    "gamma_file_name = 'gamma.txt'\n",
    "u_scores_file_name = 'u_scores.txt'\n",
    "eigenvalues_file_name = 'eigenvalues.txt'\n",
    "centroids_file_name = 'centroids.txt'\n",
    "\n",
    "\n",
    "clusters = np.asarray(clusters)[0]\n",
    "eigvec = np.asarray(eigvec)[0]\n",
    "n_eig = np.asarray(n_eig)[0]\n",
    "gamma = np.asarray(gamma)[0]\n",
    "u_scores = np.asarray(u_scores)[0]\n",
    "eigenvalues = np.asarray(eigenvalues)[0]\n",
    "centroids = np.asarray(centroids)[0]\n",
    "\n",
    "\n",
    "np.save(idx_file_name, idx)\n",
    "np.save(clusters_file_name, clusters)\n"
   ]
  },
  {
   "cell_type": "code",
   "execution_count": 81,
   "metadata": {},
   "outputs": [],
   "source": [
    "path = r'C:\\Users\\azarguit\\Desktop\\master\\memoire\\case_study\\src_matlab' + '\\\\'\n",
    "idx_file_name = 'idx.txt.npy'\n",
    "clusters_file_name = 'clusters.txt.npy'\n",
    "\n",
    "idx = np.load(idx_file_name)\n",
    "clusters = np.load(clusters_file_name)\n"
   ]
  },
  {
   "cell_type": "code",
   "execution_count": 82,
   "metadata": {},
   "outputs": [
    {
     "data": {
      "text/plain": [
       "5500    2.0\n",
       "5501    2.0\n",
       "5502    2.0\n",
       "5503    2.0\n",
       "5504    1.0\n",
       "5505    2.0\n",
       "5506    2.0\n",
       "5507    1.0\n",
       "5508    2.0\n",
       "5509    2.0\n",
       "5510    2.0\n",
       "5511    2.0\n",
       "5512    1.0\n",
       "5513    2.0\n",
       "5514    2.0\n",
       "5515    2.0\n",
       "5516    2.0\n",
       "5517    1.0\n",
       "5518    2.0\n",
       "5519    2.0\n",
       "5520    1.0\n",
       "5521    1.0\n",
       "5522    1.0\n",
       "5523    2.0\n",
       "5524    2.0\n",
       "5525    2.0\n",
       "5526    1.0\n",
       "5527    1.0\n",
       "5528    2.0\n",
       "5529    2.0\n",
       "       ... \n",
       "6470    1.0\n",
       "6471    2.0\n",
       "6472    1.0\n",
       "6473    2.0\n",
       "6474    1.0\n",
       "6475    2.0\n",
       "6476    2.0\n",
       "6477    2.0\n",
       "6478    1.0\n",
       "6479    2.0\n",
       "6480    2.0\n",
       "6481    2.0\n",
       "6482    2.0\n",
       "6483    2.0\n",
       "6484    2.0\n",
       "6485    2.0\n",
       "6486    2.0\n",
       "6487    1.0\n",
       "6488    2.0\n",
       "6489    2.0\n",
       "6490    1.0\n",
       "6491    2.0\n",
       "6492    2.0\n",
       "6493    2.0\n",
       "6494    2.0\n",
       "6495    1.0\n",
       "6496    1.0\n",
       "6497    1.0\n",
       "6498    2.0\n",
       "6499    2.0\n",
       "Name: idx, Length: 1000, dtype: float64"
      ]
     },
     "execution_count": 82,
     "metadata": {},
     "output_type": "execute_result"
    }
   ],
   "source": [
    "columns_new = ['idx']\n",
    "# pass in array and columns\n",
    "df_idx = pd.DataFrame(idx, columns=columns_new)\n",
    "df_idx =  df_idx['idx']  \n",
    "df_idx.tail(1000)\n"
   ]
  },
  {
   "cell_type": "code",
   "execution_count": 83,
   "metadata": {},
   "outputs": [
    {
     "data": {
      "text/html": [
       "<div>\n",
       "<style scoped>\n",
       "    .dataframe tbody tr th:only-of-type {\n",
       "        vertical-align: middle;\n",
       "    }\n",
       "\n",
       "    .dataframe tbody tr th {\n",
       "        vertical-align: top;\n",
       "    }\n",
       "\n",
       "    .dataframe thead th {\n",
       "        text-align: right;\n",
       "    }\n",
       "</style>\n",
       "<table border=\"1\" class=\"dataframe\">\n",
       "  <thead>\n",
       "    <tr style=\"text-align: right;\">\n",
       "      <th></th>\n",
       "      <th>H2O</th>\n",
       "      <th>CH2O</th>\n",
       "      <th>idx</th>\n",
       "    </tr>\n",
       "  </thead>\n",
       "  <tbody>\n",
       "    <tr>\n",
       "      <th>0</th>\n",
       "      <td>-0.292616</td>\n",
       "      <td>0.126387</td>\n",
       "      <td>2.0</td>\n",
       "    </tr>\n",
       "    <tr>\n",
       "      <th>1</th>\n",
       "      <td>0.459799</td>\n",
       "      <td>-0.041601</td>\n",
       "      <td>2.0</td>\n",
       "    </tr>\n",
       "    <tr>\n",
       "      <th>2</th>\n",
       "      <td>-0.440266</td>\n",
       "      <td>-0.041601</td>\n",
       "      <td>1.0</td>\n",
       "    </tr>\n",
       "    <tr>\n",
       "      <th>3</th>\n",
       "      <td>-0.440168</td>\n",
       "      <td>-0.041589</td>\n",
       "      <td>1.0</td>\n",
       "    </tr>\n",
       "    <tr>\n",
       "      <th>4</th>\n",
       "      <td>-0.440266</td>\n",
       "      <td>-0.041601</td>\n",
       "      <td>1.0</td>\n",
       "    </tr>\n",
       "  </tbody>\n",
       "</table>\n",
       "</div>"
      ],
      "text/plain": [
       "        H2O      CH2O  idx\n",
       "0 -0.292616  0.126387  2.0\n",
       "1  0.459799 -0.041601  2.0\n",
       "2 -0.440266 -0.041601  1.0\n",
       "3 -0.440168 -0.041589  1.0\n",
       "4 -0.440266 -0.041601  1.0"
      ]
     },
     "execution_count": 83,
     "metadata": {},
     "output_type": "execute_result"
    }
   ],
   "source": [
    "X_range_scaled = pd.DataFrame(X_range_scaled, columns=[f1, f2])\n",
    "clustered_labels = pd.concat([X_range_scaled, df_idx], axis=1)\n",
    "clustered_labels.head()\n",
    "#df_with_target = pd.concat([eda.df, eda.target], axis=1)\n",
    "#clustered_labels = clustered_labels[clustered_labels.idx != 2]\n",
    "#clustered_labels = clustered_labels[clustered_labels.idx != 3]\n",
    "#clustered_labels = clustered_labels[clustered_labels.idx != 6]\n",
    "#clustered_labels = clustered_labels[clustered_labels.idx != 7]\n",
    "#clustered_labels = clustered_labels[clustered_labels.idx != 8]\n",
    "#df_idx = clustered_labels['idx']\n",
    "#df1 = df[['a','b']]\n",
    "#clustered_labels.drop('idx', axis=1).shape"
   ]
  },
  {
   "cell_type": "code",
   "execution_count": null,
   "metadata": {},
   "outputs": [],
   "source": []
  },
  {
   "cell_type": "code",
   "execution_count": null,
   "metadata": {},
   "outputs": [],
   "source": []
  },
  {
   "cell_type": "code",
   "execution_count": null,
   "metadata": {},
   "outputs": [],
   "source": []
  },
  {
   "cell_type": "code",
   "execution_count": null,
   "metadata": {},
   "outputs": [],
   "source": []
  },
  {
   "cell_type": "code",
   "execution_count": 84,
   "metadata": {},
   "outputs": [
    {
     "data": {
      "text/plain": [
       "<matplotlib.colorbar.Colorbar at 0x1757d9f2f28>"
      ]
     },
     "execution_count": 84,
     "metadata": {},
     "output_type": "execute_result"
    },
    {
     "data": {
      "image/png": "[encoded data removed]",
      "text/plain": [
       "<Figure size 864x576 with 2 Axes>"
      ]
     },
     "metadata": {},
     "output_type": "display_data"
    }
   ],
   "source": [
    "fig, (ax1) = plt.subplots(ncols=1, figsize=(12, 8))\n",
    "\n",
    "surf1 = ax1.scatter(clustered_labels[f1], clustered_labels[f2],c=clustered_labels['idx'])\n",
    "ax1.set_xlabel('First principal component')\n",
    "ax1.set_ylabel('Second Principal Component')\n",
    "ax1.set_title('StandardScaler scaling: centring and scaling')\n",
    "fig.colorbar(surf1,label='kmeans_idx')"
   ]
  },
  {
   "cell_type": "code",
   "execution_count": null,
   "metadata": {},
   "outputs": [],
   "source": []
  },
  {
   "cell_type": "code",
   "execution_count": null,
   "metadata": {},
   "outputs": [],
   "source": []
  },
  {
   "cell_type": "code",
   "execution_count": null,
   "metadata": {},
   "outputs": [],
   "source": []
  },
  {
   "cell_type": "code",
   "execution_count": null,
   "metadata": {},
   "outputs": [],
   "source": []
  },
  {
   "cell_type": "code",
   "execution_count": null,
   "metadata": {},
   "outputs": [],
   "source": []
  }
 ],
 "metadata": {
  "kernelspec": {
   "display_name": "Python [default]",
   "language": "python",
   "name": "python3"
  },
  "language_info": {
   "codemirror_mode": {
    "name": "ipython",
    "version": 3
   },
   "file_extension": ".py",
   "mimetype": "text/x-python",
   "name": "python",
   "nbconvert_exporter": "python",
   "pygments_lexer": "ipython3",
   "version": "3.6.5"
  }
 },
 "nbformat": 4,
 "nbformat_minor": 2
}
