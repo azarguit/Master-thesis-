{
 "cells": [
  {
   "cell_type": "markdown",
   "metadata": {},
   "source": [
    "# Linear Autoencoder for Dimensionality Reduction\n",
    "\n",
    "** The goal of this section is to reduce a 55 dimensional data set into a 2-dimensional dataset by using autoencodders!  Then we use the the label \"Tin\" to color PCs to see if we could have any separation in the reduced data**"
   ]
  },
  {
   "cell_type": "markdown",
   "metadata": {},
   "source": [
    "## The Data\n",
    "\n",
    "** Import numpy, matplotlib, and pandas**"
   ]
  },
  {
   "cell_type": "code",
   "execution_count": 2,
   "metadata": {},
   "outputs": [],
   "source": [
    "import numpy as np\n",
    "import pandas as pd\n",
    "import matplotlib.pyplot as plt\n",
    "%matplotlib inline"
   ]
  },
  {
   "cell_type": "markdown",
   "metadata": {},
   "source": [
    "** Use pandas to read in the csv file . It contains 26000 rows and 55 columns of anonymized data along with 1 last column with a classification label.**"
   ]
  },
  {
   "cell_type": "code",
   "execution_count": 3,
   "metadata": {},
   "outputs": [],
   "source": [
    "#features used\n",
    "index = ['u (m/s)', 'T (K)', 'H2', 'H', 'O', 'O2', 'OH',\n",
    "       'H2O', 'HO2', 'H2O2', 'C', 'CH', 'CH2', 'CH2(S)', 'CH3', 'CH4', 'CO',\n",
    "       'CO2', 'HCO', 'CH2O', 'CH2OH', 'CH3O', 'CH3OH', 'C2H', 'C2H2', 'C2H3',\n",
    "       'C2H4', 'C2H5', 'C2H6', 'HCCO', 'CH2CO', 'HCCOH', 'N', 'NH', 'NH2',\n",
    "       'NH3', 'NNH', 'NO', 'NO2', 'N2O', 'HNO', 'CN', 'HCN', 'H2CN', 'HCNN',\n",
    "       'HCNO', 'HOCN', 'HNCO', 'NCO', 'N2', 'AR', 'C3H7', 'C3H8', 'CH2CHO',\n",
    "       'CH3CHO']\n",
    "# target\n",
    "target_name = ['Tin']"
   ]
  },
  {
   "cell_type": "code",
   "execution_count": 4,
   "metadata": {},
   "outputs": [
    {
     "data": {
      "text/html": [
       "<div>\n",
       "<style scoped>\n",
       "    .dataframe tbody tr th:only-of-type {\n",
       "        vertical-align: middle;\n",
       "    }\n",
       "\n",
       "    .dataframe tbody tr th {\n",
       "        vertical-align: top;\n",
       "    }\n",
       "\n",
       "    .dataframe thead th {\n",
       "        text-align: right;\n",
       "    }\n",
       "</style>\n",
       "<table border=\"1\" class=\"dataframe\">\n",
       "  <thead>\n",
       "    <tr style=\"text-align: right;\">\n",
       "      <th></th>\n",
       "      <th>z (m)</th>\n",
       "      <th>u (m/s)</th>\n",
       "      <th>V (1/s)</th>\n",
       "      <th>T (K)</th>\n",
       "      <th>H2</th>\n",
       "      <th>H</th>\n",
       "      <th>O</th>\n",
       "      <th>O2</th>\n",
       "      <th>OH</th>\n",
       "      <th>H2O</th>\n",
       "      <th>...</th>\n",
       "      <th>AR</th>\n",
       "      <th>C3H7</th>\n",
       "      <th>C3H8</th>\n",
       "      <th>CH2CHO</th>\n",
       "      <th>CH3CHO</th>\n",
       "      <th>Z</th>\n",
       "      <th>c</th>\n",
       "      <th>HR</th>\n",
       "      <th>sm</th>\n",
       "      <th>Tin</th>\n",
       "    </tr>\n",
       "  </thead>\n",
       "  <tbody>\n",
       "    <tr>\n",
       "      <th>0</th>\n",
       "      <td>0.000408</td>\n",
       "      <td>3.618850</td>\n",
       "      <td>2.531894e+01</td>\n",
       "      <td>900.000000</td>\n",
       "      <td>8.982076e-11</td>\n",
       "      <td>1.767299e-16</td>\n",
       "      <td>0.000000e+00</td>\n",
       "      <td>0.000000</td>\n",
       "      <td>0.000000e+00</td>\n",
       "      <td>4.105146e-16</td>\n",
       "      <td>...</td>\n",
       "      <td>1.704387e-18</td>\n",
       "      <td>0.000000e+00</td>\n",
       "      <td>3.610414e-18</td>\n",
       "      <td>1.408205e-29</td>\n",
       "      <td>0.000000e+00</td>\n",
       "      <td>1.000000</td>\n",
       "      <td>-1.000000</td>\n",
       "      <td>1.383743e-03</td>\n",
       "      <td>125.0</td>\n",
       "      <td>900.0</td>\n",
       "    </tr>\n",
       "    <tr>\n",
       "      <th>1</th>\n",
       "      <td>0.011614</td>\n",
       "      <td>0.242234</td>\n",
       "      <td>0.000000e+00</td>\n",
       "      <td>500.209712</td>\n",
       "      <td>4.239998e-03</td>\n",
       "      <td>2.773318e-15</td>\n",
       "      <td>4.230132e-17</td>\n",
       "      <td>0.179017</td>\n",
       "      <td>2.368248e-14</td>\n",
       "      <td>4.481909e-05</td>\n",
       "      <td>...</td>\n",
       "      <td>0.000000e+00</td>\n",
       "      <td>6.844475e-15</td>\n",
       "      <td>6.591774e-12</td>\n",
       "      <td>1.856083e-20</td>\n",
       "      <td>2.626325e-11</td>\n",
       "      <td>0.085258</td>\n",
       "      <td>0.000142</td>\n",
       "      <td>-7.942999e-02</td>\n",
       "      <td>0.0</td>\n",
       "      <td>500.0</td>\n",
       "    </tr>\n",
       "    <tr>\n",
       "      <th>2</th>\n",
       "      <td>0.017166</td>\n",
       "      <td>3.789837</td>\n",
       "      <td>3.326699e-129</td>\n",
       "      <td>2267.870786</td>\n",
       "      <td>9.545099e-02</td>\n",
       "      <td>3.115552e-03</td>\n",
       "      <td>1.830125e-05</td>\n",
       "      <td>0.000013</td>\n",
       "      <td>8.173013e-04</td>\n",
       "      <td>1.627574e-01</td>\n",
       "      <td>...</td>\n",
       "      <td>1.113075e-102</td>\n",
       "      <td>1.336602e-18</td>\n",
       "      <td>6.773060e-19</td>\n",
       "      <td>1.785170e-12</td>\n",
       "      <td>6.338258e-13</td>\n",
       "      <td>0.085258</td>\n",
       "      <td>0.997102</td>\n",
       "      <td>-1.022505e+06</td>\n",
       "      <td>0.0</td>\n",
       "      <td>900.0</td>\n",
       "    </tr>\n",
       "    <tr>\n",
       "      <th>3</th>\n",
       "      <td>0.018035</td>\n",
       "      <td>1.386094</td>\n",
       "      <td>0.000000e+00</td>\n",
       "      <td>1817.412812</td>\n",
       "      <td>8.919724e-05</td>\n",
       "      <td>1.263945e-05</td>\n",
       "      <td>1.308721e-04</td>\n",
       "      <td>0.078818</td>\n",
       "      <td>1.170264e-03</td>\n",
       "      <td>1.179354e-01</td>\n",
       "      <td>...</td>\n",
       "      <td>0.000000e+00</td>\n",
       "      <td>0.000000e+00</td>\n",
       "      <td>0.000000e+00</td>\n",
       "      <td>5.466133e-27</td>\n",
       "      <td>0.000000e+00</td>\n",
       "      <td>0.033771</td>\n",
       "      <td>0.996441</td>\n",
       "      <td>-1.299898e+06</td>\n",
       "      <td>0.0</td>\n",
       "      <td>500.0</td>\n",
       "    </tr>\n",
       "    <tr>\n",
       "      <th>4</th>\n",
       "      <td>0.013240</td>\n",
       "      <td>0.089593</td>\n",
       "      <td>0.000000e+00</td>\n",
       "      <td>554.125759</td>\n",
       "      <td>8.067399e-04</td>\n",
       "      <td>3.398120e-11</td>\n",
       "      <td>1.818058e-11</td>\n",
       "      <td>0.180601</td>\n",
       "      <td>3.219009e-09</td>\n",
       "      <td>2.733310e-02</td>\n",
       "      <td>...</td>\n",
       "      <td>5.923583e-100</td>\n",
       "      <td>9.898650e-12</td>\n",
       "      <td>1.623327e-07</td>\n",
       "      <td>1.007418e-12</td>\n",
       "      <td>5.323347e-07</td>\n",
       "      <td>0.028302</td>\n",
       "      <td>0.215183</td>\n",
       "      <td>-6.974898e+03</td>\n",
       "      <td>0.0</td>\n",
       "      <td>300.0</td>\n",
       "    </tr>\n",
       "  </tbody>\n",
       "</table>\n",
       "<p>5 rows × 62 columns</p>\n",
       "</div>"
      ],
      "text/plain": [
       "      z (m)   u (m/s)        V (1/s)        T (K)            H2             H  \\\n",
       "0  0.000408  3.618850   2.531894e+01   900.000000  8.982076e-11  1.767299e-16   \n",
       "1  0.011614  0.242234   0.000000e+00   500.209712  4.239998e-03  2.773318e-15   \n",
       "2  0.017166  3.789837  3.326699e-129  2267.870786  9.545099e-02  3.115552e-03   \n",
       "3  0.018035  1.386094   0.000000e+00  1817.412812  8.919724e-05  1.263945e-05   \n",
       "4  0.013240  0.089593   0.000000e+00   554.125759  8.067399e-04  3.398120e-11   \n",
       "\n",
       "              O        O2            OH           H2O  ...               AR  \\\n",
       "0  0.000000e+00  0.000000  0.000000e+00  4.105146e-16  ...     1.704387e-18   \n",
       "1  4.230132e-17  0.179017  2.368248e-14  4.481909e-05  ...     0.000000e+00   \n",
       "2  1.830125e-05  0.000013  8.173013e-04  1.627574e-01  ...    1.113075e-102   \n",
       "3  1.308721e-04  0.078818  1.170264e-03  1.179354e-01  ...     0.000000e+00   \n",
       "4  1.818058e-11  0.180601  3.219009e-09  2.733310e-02  ...    5.923583e-100   \n",
       "\n",
       "           C3H7          C3H8        CH2CHO        CH3CHO         Z         c  \\\n",
       "0  0.000000e+00  3.610414e-18  1.408205e-29  0.000000e+00  1.000000 -1.000000   \n",
       "1  6.844475e-15  6.591774e-12  1.856083e-20  2.626325e-11  0.085258  0.000142   \n",
       "2  1.336602e-18  6.773060e-19  1.785170e-12  6.338258e-13  0.085258  0.997102   \n",
       "3  0.000000e+00  0.000000e+00  5.466133e-27  0.000000e+00  0.033771  0.996441   \n",
       "4  9.898650e-12  1.623327e-07  1.007418e-12  5.323347e-07  0.028302  0.215183   \n",
       "\n",
       "             HR     sm    Tin  \n",
       "0  1.383743e-03  125.0  900.0  \n",
       "1 -7.942999e-02    0.0  500.0  \n",
       "2 -1.022505e+06    0.0  900.0  \n",
       "3 -1.299898e+06    0.0  500.0  \n",
       "4 -6.974898e+03    0.0  300.0  \n",
       "\n",
       "[5 rows x 62 columns]"
      ]
     },
     "execution_count": 4,
     "metadata": {},
     "output_type": "execute_result"
    }
   ],
   "source": [
    "labels = pd.read_csv(\"labels.csv\", sep='\\t') # shape: (32273, 62)\n",
    "labels_name = labels.columns.values.tolist() # return list of features names\n",
    "labels.head()"
   ]
  },
  {
   "cell_type": "code",
   "execution_count": 5,
   "metadata": {},
   "outputs": [],
   "source": [
    "new_labels = pd.read_csv(\"new_labels.csv\") #shape: (32273, 55)\n",
    "new_labels = new_labels[index]"
   ]
  },
  {
   "cell_type": "code",
   "execution_count": 6,
   "metadata": {},
   "outputs": [
    {
     "data": {
      "text/plain": [
       "(6273, 62)"
      ]
     },
     "execution_count": 6,
     "metadata": {},
     "output_type": "execute_result"
    }
   ],
   "source": [
    "Y_cf = pd.read_csv(\"Y_cf.csv\", sep=',', names = labels_name) #shape: (6273, 62)\n",
    "Y_cf.shape"
   ]
  },
  {
   "cell_type": "code",
   "execution_count": 7,
   "metadata": {},
   "outputs": [],
   "source": [
    "Y_pf = pd.read_csv(\"Y_pf.csv\", sep=',', names = index) #shape: (26000, 55)"
   ]
  },
  {
   "cell_type": "code",
   "execution_count": 8,
   "metadata": {},
   "outputs": [
    {
     "data": {
      "text/html": [
       "<div>\n",
       "<style scoped>\n",
       "    .dataframe tbody tr th:only-of-type {\n",
       "        vertical-align: middle;\n",
       "    }\n",
       "\n",
       "    .dataframe tbody tr th {\n",
       "        vertical-align: top;\n",
       "    }\n",
       "\n",
       "    .dataframe thead th {\n",
       "        text-align: right;\n",
       "    }\n",
       "</style>\n",
       "<table border=\"1\" class=\"dataframe\">\n",
       "  <thead>\n",
       "    <tr style=\"text-align: right;\">\n",
       "      <th></th>\n",
       "      <th>unknown_1</th>\n",
       "      <th>unknown_2</th>\n",
       "      <th>Tin</th>\n",
       "    </tr>\n",
       "  </thead>\n",
       "  <tbody>\n",
       "    <tr>\n",
       "      <th>0</th>\n",
       "      <td>0.011614</td>\n",
       "      <td>0.085258</td>\n",
       "      <td>500</td>\n",
       "    </tr>\n",
       "    <tr>\n",
       "      <th>1</th>\n",
       "      <td>0.017166</td>\n",
       "      <td>0.085258</td>\n",
       "      <td>900</td>\n",
       "    </tr>\n",
       "    <tr>\n",
       "      <th>2</th>\n",
       "      <td>0.018035</td>\n",
       "      <td>0.033771</td>\n",
       "      <td>500</td>\n",
       "    </tr>\n",
       "    <tr>\n",
       "      <th>3</th>\n",
       "      <td>0.013240</td>\n",
       "      <td>0.028302</td>\n",
       "      <td>300</td>\n",
       "    </tr>\n",
       "    <tr>\n",
       "      <th>4</th>\n",
       "      <td>0.014744</td>\n",
       "      <td>0.060219</td>\n",
       "      <td>900</td>\n",
       "    </tr>\n",
       "  </tbody>\n",
       "</table>\n",
       "</div>"
      ],
      "text/plain": [
       "   unknown_1  unknown_2  Tin\n",
       "0   0.011614   0.085258  500\n",
       "1   0.017166   0.085258  900\n",
       "2   0.018035   0.033771  500\n",
       "3   0.013240   0.028302  300\n",
       "4   0.014744   0.060219  900"
      ]
     },
     "execution_count": 8,
     "metadata": {},
     "output_type": "execute_result"
    }
   ],
   "source": [
    "X_pf = pd.read_csv(\"X.csv\", sep=',', names = ['unknown_1', 'unknown_2', 'Tin']) #shape: (25999, 3) \n",
    "X_pf.head()"
   ]
  },
  {
   "cell_type": "code",
   "execution_count": 9,
   "metadata": {},
   "outputs": [],
   "source": [
    "#target = labels['Tin']\n",
    "targets_name = list(set(labels_name) - set(index)) # target to label and classify features\n",
    "#target = target.iloc[0:26000]\n",
    "#df_array = df.values"
   ]
  },
  {
   "cell_type": "code",
   "execution_count": 10,
   "metadata": {},
   "outputs": [],
   "source": [
    "# Features\n",
    "#df = new_labels  #shape: (32273, 55)\n",
    "df = Y_pf         #shape: (26000, 55)\n",
    "\n",
    "# target\n",
    "#target = labels['Tin']  #shape:\n",
    "target = X_pf['Tin']     #shape:"
   ]
  },
  {
   "cell_type": "code",
   "execution_count": null,
   "metadata": {},
   "outputs": [],
   "source": []
  },
  {
   "cell_type": "markdown",
   "metadata": {},
   "source": [
    "## Scale the Data\n",
    "\n",
    "** Using scikit learn to scale the data with a StandardScaler. This scaled data is saved as a new variable called scaled_data. **"
   ]
  },
  {
   "cell_type": "code",
   "execution_count": 11,
   "metadata": {},
   "outputs": [],
   "source": [
    "from sklearn.preprocessing import StandardScaler"
   ]
  },
  {
   "cell_type": "code",
   "execution_count": 12,
   "metadata": {},
   "outputs": [],
   "source": [
    "sd_scaler = StandardScaler()\n",
    "X_sd_scaled_with_centring = sd_scaler.fit_transform(df)"
   ]
  },
  {
   "cell_type": "code",
   "execution_count": 13,
   "metadata": {},
   "outputs": [],
   "source": [
    "class My_StandardScaler():\n",
    "    \n",
    "    \"\"\"\n",
    "    Standardize features by removing \n",
    "    the mean and scaling to unit variance\n",
    "    \"\"\"\n",
    "\n",
    "           \n",
    "    \n",
    "    def __init__(self):\n",
    "        return None\n",
    "    \n",
    "    def transform(self, X):\n",
    "        \"\"\"Centring and Scaling the features of X\"\"\"\n",
    "        X = np.asarray(X)\n",
    "        X = np.float64(X)\n",
    "        sd = np.std(X, axis=0)  \n",
    "        m = np.median(sd[sd > 0])   # replace the zero values  \n",
    "        sd[sd == 0] = m             # by the median\n",
    "        Z = X/sd\n",
    "        return Z\n",
    "        \n",
    "    \n",
    "    def fit_transform(self, X):\n",
    "        \"\"\"Centring and Scaling the features of X\"\"\"\n",
    "        X = np.asarray(X)\n",
    "        X = np.float64(X)\n",
    "        sd = np.std(X, axis=0)\n",
    "        m = np.median(sd[sd > 0])   # replace the zero                                        \n",
    "        sd[sd == 0] = m             # values by the median \n",
    "        X_mean = X.mean(axis=0)\n",
    "        X_center = X-X_mean        \n",
    "        Z = X_center/sd\n",
    "        return Z\n"
   ]
  },
  {
   "cell_type": "code",
   "execution_count": 14,
   "metadata": {},
   "outputs": [],
   "source": [
    "my_sd_scaler = My_StandardScaler()\n",
    "X_sd_scaled_without_centring = sd_scaler.transform(df)"
   ]
  },
  {
   "cell_type": "code",
   "execution_count": 15,
   "metadata": {},
   "outputs": [],
   "source": [
    "scaled_data = X_sd_scaled_with_centring"
   ]
  },
  {
   "cell_type": "markdown",
   "metadata": {},
   "source": [
    "# The Linear Autoencoder"
   ]
  },
  {
   "cell_type": "markdown",
   "metadata": {},
   "source": [
    "** Import tensorflow and import fully_connected layers from tensorflow.contrib.layers. **"
   ]
  },
  {
   "cell_type": "code",
   "execution_count": 18,
   "metadata": {},
   "outputs": [],
   "source": [
    "import tensorflow as tf\n",
    "from tensorflow.contrib.layers import fully_connected"
   ]
  },
  {
   "cell_type": "markdown",
   "metadata": {},
   "source": [
    "** Filling out the number of inputs to fit the dimensions of the data set and setting the hidden number of units to be 3. Also setting the number of outputs to match the number of inputs. Also we choose a learning_rate value.**"
   ]
  },
  {
   "cell_type": "code",
   "execution_count": 19,
   "metadata": {},
   "outputs": [],
   "source": [
    "num_inputs = 55  # 3 dimensional input\n",
    "num_hidden = 3  # 2 dimensional representation \n",
    "num_outputs = num_inputs # Must be true for an autoencoder!\n",
    "\n",
    "learning_rate = 0.01"
   ]
  },
  {
   "cell_type": "markdown",
   "metadata": {},
   "source": [
    "### Placeholder\n",
    "\n",
    "** Creatinh a placeholder fot the data called X.**"
   ]
  },
  {
   "cell_type": "code",
   "execution_count": 20,
   "metadata": {},
   "outputs": [],
   "source": [
    "X = tf.placeholder(tf.float32, shape=[None, num_inputs])"
   ]
  },
  {
   "cell_type": "markdown",
   "metadata": {},
   "source": [
    "### Layers\n",
    "\n",
    "** Creating the hidden layer and the output layers using the fully_connected function. Remember that to perform PCA there is no activation function.**"
   ]
  },
  {
   "cell_type": "code",
   "execution_count": 21,
   "metadata": {},
   "outputs": [],
   "source": [
    "hidden = fully_connected(X, num_hidden, activation_fn=None)\n",
    "outputs = fully_connected(hidden, num_outputs, activation_fn=None)"
   ]
  },
  {
   "cell_type": "markdown",
   "metadata": {},
   "source": [
    "### Loss Function\n",
    "\n",
    "** Create a Mean Squared Error loss function. **"
   ]
  },
  {
   "cell_type": "code",
   "execution_count": 22,
   "metadata": {},
   "outputs": [],
   "source": [
    "loss = tf.reduce_mean(tf.square(outputs - X))  # MSE"
   ]
  },
  {
   "cell_type": "markdown",
   "metadata": {},
   "source": [
    "### Optimizer"
   ]
  },
  {
   "cell_type": "markdown",
   "metadata": {},
   "source": [
    "** Create an AdamOptimizer designed to minimize the previous loss function. **"
   ]
  },
  {
   "cell_type": "code",
   "execution_count": 23,
   "metadata": {},
   "outputs": [],
   "source": [
    "optimizer = tf.train.AdamOptimizer(learning_rate)\n",
    "train  = optimizer.minimize( loss)"
   ]
  },
  {
   "cell_type": "markdown",
   "metadata": {},
   "source": [
    "### Init\n",
    "\n",
    "** Create an instance of a global variable intializer. **"
   ]
  },
  {
   "cell_type": "code",
   "execution_count": 24,
   "metadata": {},
   "outputs": [],
   "source": [
    "init = tf.global_variables_initializer()"
   ]
  },
  {
   "cell_type": "markdown",
   "metadata": {},
   "source": [
    "## Running the Session\n",
    "\n",
    "** Now we create a Tensorflow session that runs the optimizer for at least 1000 steps. (We can also use epochs if we prefer, where 1 epoch is defined by one single run through the entire dataset. **"
   ]
  },
  {
   "cell_type": "code",
   "execution_count": 27,
   "metadata": {},
   "outputs": [
    {
     "data": {
      "image/png": "[encoded data removed]",
      "text/plain": [
       "<Figure size 1152x864 with 1 Axes>"
      ]
     },
     "metadata": {},
     "output_type": "display_data"
    }
   ],
   "source": [
    "num_steps = 500\n",
    "training_loss_array = []\n",
    "\n",
    "with tf.Session() as sess:\n",
    "    sess.run(init)\n",
    "    \n",
    "    for iteration in range(num_steps):\n",
    "        sess.run(train,feed_dict={X: scaled_data})\n",
    "        training_loss = loss.eval(feed_dict={X: scaled_data}) \n",
    "        training_loss_array.append(training_loss)\n",
    "        \n",
    "    plt.figure(figsize=(16,12))\n",
    "    plt.plot(list(range(num_steps)), training_loss_array)\n",
    "    plt.xlabel('Epochs')\n",
    "    plt.ylabel('Loss')\n",
    "    plt.title('Model loss')\n",
    "        "
   ]
  },
  {
   "cell_type": "markdown",
   "metadata": {},
   "source": [
    "** Now, we create a session that runs the scaled data through the hidden layer.**"
   ]
  },
  {
   "cell_type": "code",
   "execution_count": null,
   "metadata": {},
   "outputs": [],
   "source": [
    "with tf.Session() as sess:\n",
    "    sess.run(init)\n",
    "        \n",
    "    # Now ask for the hidden layer output (the 2 dimensional output)\n",
    "    output_2d = hidden.eval(feed_dict={X: scaled_data})"
   ]
  },
  {
   "cell_type": "markdown",
   "metadata": {},
   "source": [
    "** Confirm that our output is now 3 dimensional along the previous axis of 55 features. **"
   ]
  },
  {
   "cell_type": "code",
   "execution_count": null,
   "metadata": {},
   "outputs": [],
   "source": [
    "output_2d.shape"
   ]
  },
  {
   "cell_type": "markdown",
   "metadata": {},
   "source": [
    "##### PC1 vs PC2 "
   ]
  },
  {
   "cell_type": "markdown",
   "metadata": {},
   "source": [
    "** Now, we plot out the reduced dimensional representation of the data. Do you still have clear separation of classes even with the reduction in dimensions? Hint: You definitely should, the classes should still be clearly seperable, even when reduced to 2 dimensions. **"
   ]
  },
  {
   "cell_type": "code",
   "execution_count": null,
   "metadata": {},
   "outputs": [],
   "source": [
    "plt.scatter(output_2d[:,0],output_2d[:,1],c=target)"
   ]
  },
  {
   "cell_type": "code",
   "execution_count": null,
   "metadata": {},
   "outputs": [],
   "source": [
    "import plotly as py\n",
    "import plotly.graph_objs as go\n",
    "import ipywidgets as widgets\n",
    "from scipy import special\n",
    "\n",
    "py.offline.init_notebook_mode(connected=True)"
   ]
  },
  {
   "cell_type": "code",
   "execution_count": null,
   "metadata": {},
   "outputs": [],
   "source": [
    "trace = go.Scatter3d(\n",
    "    x= output_2d[:,0],\n",
    "    y= output_2d[:,1], \n",
    "    z= output_2d[:,2],\n",
    "\n",
    "\n",
    "    mode='markers',\n",
    "    marker=dict(\n",
    "        size=2,\n",
    "        color=target,\n",
    "        colorbar=dict(\n",
    "        title='Tin'\n",
    "            ),\n",
    "        colorscale='Viridis'\n",
    "        \n",
    "        ))\n",
    "\n",
    "\n",
    "data = [trace]\n",
    "\n",
    "\n",
    "layout = go.Layout(\n",
    "\n",
    "    title='<b>PC1 vs PC2 vs PC3: StandardScaler with centring</b>',\n",
    "    scene = dict(\n",
    "    xaxis = dict(\n",
    "        title='PC1'),\n",
    "    yaxis = dict(\n",
    "        title='PC2'),\n",
    "    zaxis = dict(\n",
    "        title='PC3'),\n",
    "    \n",
    "    ),\n",
    ")\n",
    "\n",
    "fig = go.Figure(data=data, layout=layout)\n",
    "py.offline.iplot(fig)\n"
   ]
  },
  {
   "cell_type": "markdown",
   "metadata": {},
   "source": [
    "# https://stats.stackexchange.com/questions/190148/building-an-autoencoder-in-tensorflow-to-surpass-pca"
   ]
  },
  {
   "cell_type": "code",
   "execution_count": null,
   "metadata": {},
   "outputs": [],
   "source": []
  },
  {
   "cell_type": "code",
   "execution_count": null,
   "metadata": {},
   "outputs": [],
   "source": []
  },
  {
   "cell_type": "code",
   "execution_count": null,
   "metadata": {},
   "outputs": [],
   "source": []
  },
  {
   "cell_type": "code",
   "execution_count": null,
   "metadata": {},
   "outputs": [],
   "source": []
  },
  {
   "cell_type": "code",
   "execution_count": null,
   "metadata": {},
   "outputs": [],
   "source": []
  },
  {
   "cell_type": "code",
   "execution_count": null,
   "metadata": {},
   "outputs": [],
   "source": []
  },
  {
   "cell_type": "code",
   "execution_count": null,
   "metadata": {},
   "outputs": [],
   "source": []
  },
  {
   "cell_type": "code",
   "execution_count": null,
   "metadata": {},
   "outputs": [],
   "source": []
  },
  {
   "cell_type": "code",
   "execution_count": null,
   "metadata": {},
   "outputs": [],
   "source": []
  },
  {
   "cell_type": "code",
   "execution_count": null,
   "metadata": {},
   "outputs": [],
   "source": []
  },
  {
   "cell_type": "code",
   "execution_count": null,
   "metadata": {},
   "outputs": [],
   "source": []
  },
  {
   "cell_type": "code",
   "execution_count": null,
   "metadata": {},
   "outputs": [],
   "source": []
  }
 ],
 "metadata": {
  "kernelspec": {
   "display_name": "Python [default]",
   "language": "python",
   "name": "python3"
  },
  "language_info": {
   "codemirror_mode": {
    "name": "ipython",
    "version": 3
   },
   "file_extension": ".py",
   "mimetype": "text/x-python",
   "name": "python",
   "nbconvert_exporter": "python",
   "pygments_lexer": "ipython3",
   "version": "3.6.5"
  }
 },
 "nbformat": 4,
 "nbformat_minor": 2
}
