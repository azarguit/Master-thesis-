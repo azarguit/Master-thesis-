{
 "cells": [
  {
   "cell_type": "markdown",
   "metadata": {},
   "source": [
    "# Description of datasets"
   ]
  },
  {
   "cell_type": "markdown",
   "metadata": {},
   "source": [
    "The data-set are the \"labels\" files.\n",
    "\n",
    "\n",
    "The first row of the files are the headers: they are the name of the variables that are present in it.\n",
    "Thus, each column contains all the values that are observed for that variable.\n",
    "\n",
    "You can start using PCA on the data-set \"labels.csv\" contained in the folder FPFT-CFF.\n",
    "Because that is a multi-variate data-set, before using PCA, remember to choose a suitable way to center and scale your data.\n",
    "\n",
    "You will see there are many columns, you will need to use only the following ones:\n",
    "'u(m/s)'\t'T(K)'\t'H2'\t'H'\t'O'\t'O2'\t'OH'\t'H2O'\t'HO2'\t'H2O2'\t'C'\t'CH'\t'CH2'\t'CH2(S)'\t'CH3'\t'CH4'\t'CO'\t'CO2'\t'HCO'\t'CH2O'\t'CH2OH'\t'CH3O'\t'CH3OH'\t'C2H'\t'C2H2'\t'C2H3'\t'C2H4'\t'C2H5'\t'C2H6'\t'HCCO'\t'CH2CO'\t'HCCOH'\t'N'\t'NH'\t'NH2'\t'NH3'\t'NNH'\t'NO'\t'NO2'\t'N2O'\t'HNO'\t'CN'\t'HCN'\t'H2CN'\t'HCNN'\t'HCNO'\t'HOCN'\t'HNCO'\t'NCO'\t'N2'\t'AR'\t'C3H7'\t'C3H8'\t'CH2CHO'\t'CH3CHO'\n",
    "\n",
    "They correspond to the following column indeces: 2\t4\t5\t6\t7\t8\t9\t10\t11\t12\t13\t14\t15\t16\t17\t18\t19\t20\t21\t22\t23\t24\t25\t26\t27\t28\t29\t30\t31\t32\t33\t34\t35\t36\t37\t38\t39\t40\t41\t42\t43\t44\t45\t46\t47\t48\t49\t50\t51\t52\t53\t54\t55\t56\t57\n",
    "\n",
    "For example: the second column (column number 2) contains all the values of the variable which is indicated by 'u(m/s)'. The first column is not present, so you don't have to consider it. When you use Python, Matlab or other languages, remember to read/load into a matrix only the columns that I have listed here."
   ]
  },
  {
   "cell_type": "markdown",
   "metadata": {},
   "source": [
    "https://wordstream-files-prod.s3.amazonaws.com/s3fs-public/machine-learning.png"
   ]
  },
  {
   "cell_type": "markdown",
   "metadata": {},
   "source": [
    "# Importing libraries"
   ]
  },
  {
   "cell_type": "code",
   "execution_count": 2,
   "metadata": {},
   "outputs": [],
   "source": [
    "import pandas as pd\n",
    "import numpy as np\n",
    "import matplotlib.pyplot as plt\n",
    "import seaborn as sns\n",
    "from sklearn.preprocessing import StandardScaler\n",
    "from sklearn.decomposition import PCA"
   ]
  },
  {
   "cell_type": "code",
   "execution_count": 35,
   "metadata": {},
   "outputs": [
    {
     "data": {
      "text/html": [
       "<div>\n",
       "<style scoped>\n",
       "    .dataframe tbody tr th:only-of-type {\n",
       "        vertical-align: middle;\n",
       "    }\n",
       "\n",
       "    .dataframe tbody tr th {\n",
       "        vertical-align: top;\n",
       "    }\n",
       "\n",
       "    .dataframe thead th {\n",
       "        text-align: right;\n",
       "    }\n",
       "</style>\n",
       "<table border=\"1\" class=\"dataframe\">\n",
       "  <thead>\n",
       "    <tr style=\"text-align: right;\">\n",
       "      <th></th>\n",
       "      <th>z (m)</th>\n",
       "      <th>u (m/s)</th>\n",
       "      <th>V (1/s)</th>\n",
       "      <th>T (K)</th>\n",
       "      <th>H2</th>\n",
       "      <th>H</th>\n",
       "      <th>O</th>\n",
       "      <th>O2</th>\n",
       "      <th>OH</th>\n",
       "      <th>H2O</th>\n",
       "      <th>...</th>\n",
       "      <th>AR</th>\n",
       "      <th>C3H7</th>\n",
       "      <th>C3H8</th>\n",
       "      <th>CH2CHO</th>\n",
       "      <th>CH3CHO</th>\n",
       "      <th>Z</th>\n",
       "      <th>c</th>\n",
       "      <th>HR</th>\n",
       "      <th>sm</th>\n",
       "      <th>Tin</th>\n",
       "    </tr>\n",
       "  </thead>\n",
       "  <tbody>\n",
       "    <tr>\n",
       "      <th>4</th>\n",
       "      <td>0.013240</td>\n",
       "      <td>0.089593</td>\n",
       "      <td>0.000000e+00</td>\n",
       "      <td>554.125759</td>\n",
       "      <td>0.000807</td>\n",
       "      <td>3.398120e-11</td>\n",
       "      <td>1.818058e-11</td>\n",
       "      <td>0.180601</td>\n",
       "      <td>3.219009e-09</td>\n",
       "      <td>2.733310e-02</td>\n",
       "      <td>...</td>\n",
       "      <td>5.923583e-100</td>\n",
       "      <td>9.898650e-12</td>\n",
       "      <td>1.623327e-07</td>\n",
       "      <td>1.007418e-12</td>\n",
       "      <td>5.323347e-07</td>\n",
       "      <td>0.028302</td>\n",
       "      <td>2.151827e-01</td>\n",
       "      <td>-6.974898e+03</td>\n",
       "      <td>0.0</td>\n",
       "      <td>300.0</td>\n",
       "    </tr>\n",
       "    <tr>\n",
       "      <th>7</th>\n",
       "      <td>0.017199</td>\n",
       "      <td>2.333259</td>\n",
       "      <td>2.823181e-175</td>\n",
       "      <td>2088.736013</td>\n",
       "      <td>0.002426</td>\n",
       "      <td>5.550100e-04</td>\n",
       "      <td>7.346723e-04</td>\n",
       "      <td>0.022068</td>\n",
       "      <td>4.458154e-03</td>\n",
       "      <td>1.666206e-01</td>\n",
       "      <td>...</td>\n",
       "      <td>1.059033e-22</td>\n",
       "      <td>9.511895e-38</td>\n",
       "      <td>1.918469e-39</td>\n",
       "      <td>7.600639e-26</td>\n",
       "      <td>9.279450e-28</td>\n",
       "      <td>0.049815</td>\n",
       "      <td>9.726861e-01</td>\n",
       "      <td>-1.435336e+07</td>\n",
       "      <td>0.0</td>\n",
       "      <td>300.0</td>\n",
       "    </tr>\n",
       "    <tr>\n",
       "      <th>8</th>\n",
       "      <td>0.011173</td>\n",
       "      <td>-0.289506</td>\n",
       "      <td>3.405898e+01</td>\n",
       "      <td>1218.412351</td>\n",
       "      <td>0.000323</td>\n",
       "      <td>5.807935e-05</td>\n",
       "      <td>2.910539e-04</td>\n",
       "      <td>0.136388</td>\n",
       "      <td>4.912981e-04</td>\n",
       "      <td>8.678798e-02</td>\n",
       "      <td>...</td>\n",
       "      <td>9.529525e-03</td>\n",
       "      <td>0.000000e+00</td>\n",
       "      <td>0.000000e+00</td>\n",
       "      <td>1.194755e-20</td>\n",
       "      <td>7.362522e-23</td>\n",
       "      <td>0.018165</td>\n",
       "      <td>-1.000000e+00</td>\n",
       "      <td>-3.351178e+07</td>\n",
       "      <td>25.0</td>\n",
       "      <td>300.0</td>\n",
       "    </tr>\n",
       "    <tr>\n",
       "      <th>9</th>\n",
       "      <td>0.011984</td>\n",
       "      <td>0.375812</td>\n",
       "      <td>7.906682e-139</td>\n",
       "      <td>300.000002</td>\n",
       "      <td>0.000016</td>\n",
       "      <td>8.620383e-24</td>\n",
       "      <td>8.607889e-14</td>\n",
       "      <td>0.188246</td>\n",
       "      <td>5.051942e-17</td>\n",
       "      <td>2.774682e-10</td>\n",
       "      <td>...</td>\n",
       "      <td>0.000000e+00</td>\n",
       "      <td>0.000000e+00</td>\n",
       "      <td>1.135926e-15</td>\n",
       "      <td>2.601808e-26</td>\n",
       "      <td>2.091631e-16</td>\n",
       "      <td>0.060219</td>\n",
       "      <td>1.191570e-09</td>\n",
       "      <td>-2.068051e-06</td>\n",
       "      <td>0.0</td>\n",
       "      <td>300.0</td>\n",
       "    </tr>\n",
       "    <tr>\n",
       "      <th>17</th>\n",
       "      <td>0.013229</td>\n",
       "      <td>0.373328</td>\n",
       "      <td>-2.801225e-146</td>\n",
       "      <td>300.144781</td>\n",
       "      <td>0.001089</td>\n",
       "      <td>3.277482e-16</td>\n",
       "      <td>7.070345e-11</td>\n",
       "      <td>0.189828</td>\n",
       "      <td>8.988788e-12</td>\n",
       "      <td>1.810403e-05</td>\n",
       "      <td>...</td>\n",
       "      <td>3.118603e-23</td>\n",
       "      <td>7.432468e-14</td>\n",
       "      <td>2.329438e-12</td>\n",
       "      <td>4.160074e-18</td>\n",
       "      <td>1.891889e-11</td>\n",
       "      <td>0.055046</td>\n",
       "      <td>7.523991e-05</td>\n",
       "      <td>-1.572227e+00</td>\n",
       "      <td>0.0</td>\n",
       "      <td>300.0</td>\n",
       "    </tr>\n",
       "  </tbody>\n",
       "</table>\n",
       "<p>5 rows × 62 columns</p>\n",
       "</div>"
      ],
      "text/plain": [
       "       z (m)   u (m/s)        V (1/s)        T (K)        H2             H  \\\n",
       "4   0.013240  0.089593   0.000000e+00   554.125759  0.000807  3.398120e-11   \n",
       "7   0.017199  2.333259  2.823181e-175  2088.736013  0.002426  5.550100e-04   \n",
       "8   0.011173 -0.289506   3.405898e+01  1218.412351  0.000323  5.807935e-05   \n",
       "9   0.011984  0.375812  7.906682e-139   300.000002  0.000016  8.620383e-24   \n",
       "17  0.013229  0.373328 -2.801225e-146   300.144781  0.001089  3.277482e-16   \n",
       "\n",
       "               O        O2            OH           H2O  ...               AR  \\\n",
       "4   1.818058e-11  0.180601  3.219009e-09  2.733310e-02  ...    5.923583e-100   \n",
       "7   7.346723e-04  0.022068  4.458154e-03  1.666206e-01  ...     1.059033e-22   \n",
       "8   2.910539e-04  0.136388  4.912981e-04  8.678798e-02  ...     9.529525e-03   \n",
       "9   8.607889e-14  0.188246  5.051942e-17  2.774682e-10  ...     0.000000e+00   \n",
       "17  7.070345e-11  0.189828  8.988788e-12  1.810403e-05  ...     3.118603e-23   \n",
       "\n",
       "            C3H7          C3H8        CH2CHO        CH3CHO         Z  \\\n",
       "4   9.898650e-12  1.623327e-07  1.007418e-12  5.323347e-07  0.028302   \n",
       "7   9.511895e-38  1.918469e-39  7.600639e-26  9.279450e-28  0.049815   \n",
       "8   0.000000e+00  0.000000e+00  1.194755e-20  7.362522e-23  0.018165   \n",
       "9   0.000000e+00  1.135926e-15  2.601808e-26  2.091631e-16  0.060219   \n",
       "17  7.432468e-14  2.329438e-12  4.160074e-18  1.891889e-11  0.055046   \n",
       "\n",
       "               c            HR    sm    Tin  \n",
       "4   2.151827e-01 -6.974898e+03   0.0  300.0  \n",
       "7   9.726861e-01 -1.435336e+07   0.0  300.0  \n",
       "8  -1.000000e+00 -3.351178e+07  25.0  300.0  \n",
       "9   1.191570e-09 -2.068051e-06   0.0  300.0  \n",
       "17  7.523991e-05 -1.572227e+00   0.0  300.0  \n",
       "\n",
       "[5 rows x 62 columns]"
      ]
     },
     "execution_count": 35,
     "metadata": {},
     "output_type": "execute_result"
    }
   ],
   "source": [
    "dataframe_all = pd.read_csv(\"labels.csv\",sep='\\t', engine='python' ) #shape: (26000, 55)\n",
    "df = dataframe_all.loc[dataframe_all['Tin'] == 300]\n",
    "dataframe_all.head()\n",
    "df.head()\n",
    "#print(dataframe_all['Z'].unique())"
   ]
  },
  {
   "cell_type": "code",
   "execution_count": 30,
   "metadata": {},
   "outputs": [
    {
     "data": {
      "text/plain": [
       "(32273, 62)"
      ]
     },
     "execution_count": 30,
     "metadata": {},
     "output_type": "execute_result"
    }
   ],
   "source": [
    "dataframe_all.shape"
   ]
  },
  {
   "cell_type": "markdown",
   "metadata": {},
   "source": [
    "# Select Data-set"
   ]
  },
  {
   "cell_type": "code",
   "execution_count": 4,
   "metadata": {},
   "outputs": [],
   "source": [
    "#features used\n",
    "index = ['u (m/s)', 'T (K)', 'H2', 'H', 'O', 'O2', 'OH',\n",
    "       'H2O', 'HO2', 'H2O2', 'C', 'CH', 'CH2', 'CH2(S)', 'CH3', 'CH4', 'CO',\n",
    "       'CO2', 'HCO', 'CH2O', 'CH2OH', 'CH3O', 'CH3OH', 'C2H', 'C2H2', 'C2H3',\n",
    "       'C2H4', 'C2H5', 'C2H6', 'HCCO', 'CH2CO', 'HCCOH', 'N', 'NH', 'NH2',\n",
    "       'NH3', 'NNH', 'NO', 'NO2', 'N2O', 'HNO', 'CN', 'HCN', 'H2CN', 'HCNN',\n",
    "       'HCNO', 'HOCN', 'HNCO', 'NCO', 'N2', 'AR', 'C3H7', 'C3H8', 'CH2CHO',\n",
    "       'CH3CHO']\n",
    "# target\n",
    "target_name = ['Tin']"
   ]
  },
  {
   "cell_type": "markdown",
   "metadata": {},
   "source": [
    "# Loading the Data-set"
   ]
  },
  {
   "cell_type": "code",
   "execution_count": 5,
   "metadata": {},
   "outputs": [],
   "source": [
    "Y_pf = pd.read_csv(\"Y_pf.csv\", sep=',', names = index) #shape: (26000, 55)"
   ]
  },
  {
   "cell_type": "code",
   "execution_count": 7,
   "metadata": {},
   "outputs": [
    {
     "data": {
      "text/plain": [
       "13"
      ]
     },
     "execution_count": 7,
     "metadata": {},
     "output_type": "execute_result"
    }
   ],
   "source": [
    "X_pf = pd.read_csv(\"X.csv\", sep=',', names = ['unknown_1', 'unknown_2', 'Tin']) #shape: (25999, 3) \n",
    "X_pf['unknown_2'].nunique()\n",
    "\n",
    "# What is the columns name???"
   ]
  },
  {
   "cell_type": "markdown",
   "metadata": {},
   "source": [
    "# Exploratory Data Anaysis (EDA)"
   ]
  },
  {
   "cell_type": "markdown",
   "metadata": {},
   "source": [
    "## Choosing dataset to work with"
   ]
  },
  {
   "cell_type": "code",
   "execution_count": null,
   "metadata": {},
   "outputs": [],
   "source": [
    "# Features\n",
    "#df = new_labels  #shape:\n",
    "df = Y_pf         #shape:\n",
    "\n",
    "# target\n",
    "#target = labels['Tin']  #shape:\n",
    "target = X_pf['Tin']     #shape:"
   ]
  },
  {
   "cell_type": "markdown",
   "metadata": {},
   "source": [
    "## Data description and corrolution"
   ]
  },
  {
   "cell_type": "code",
   "execution_count": null,
   "metadata": {},
   "outputs": [],
   "source": [
    "df.shape"
   ]
  },
  {
   "cell_type": "code",
   "execution_count": null,
   "metadata": {},
   "outputs": [],
   "source": [
    "df.describe()"
   ]
  },
  {
   "cell_type": "code",
   "execution_count": null,
   "metadata": {},
   "outputs": [],
   "source": [
    "#sns.pairplot(df, size=1.5);\n",
    "#plt.show()"
   ]
  },
  {
   "cell_type": "code",
   "execution_count": null,
   "metadata": {},
   "outputs": [],
   "source": [
    "col_study = ['u (m/s)', 'T (K)', 'H2', 'H', 'O', 'O2', 'OH', 'H2O']"
   ]
  },
  {
   "cell_type": "code",
   "execution_count": null,
   "metadata": {},
   "outputs": [],
   "source": [
    "col_study"
   ]
  },
  {
   "cell_type": "code",
   "execution_count": null,
   "metadata": {},
   "outputs": [],
   "source": [
    "plt.figure(figsize=(16,10))\n",
    "df[col_study].hist(figsize=(16, 12), bins=50, xlabelsize=8, ylabelsize=8);\n",
    "plt.title(\"Distribution of the features\")\n",
    "plt.close()"
   ]
  },
  {
   "cell_type": "raw",
   "metadata": {},
   "source": [
    "#To be seen after\n",
    "\n",
    "https://www.kaggle.com/ekami66/detailed-exploratory-data-analysis-with-python\n",
    "\n",
    "for i in range(0, len(df.columns), 5):\n",
    "    sns.pairplot(data=df,\n",
    "                x_vars=df.columns[i:i+5],\n",
    "                y_vars=['O'])"
   ]
  },
  {
   "cell_type": "code",
   "execution_count": null,
   "metadata": {},
   "outputs": [],
   "source": [
    "sns.pairplot(df[['u (m/s)', 'T (K)', 'H2', 'H', 'O', 'O2', 'OH',\n",
    "       'H2O', 'HO2', 'H2O2', 'C', 'CH', 'CH2', 'CH2(S)', 'CH3', 'CH4', 'CO',\n",
    "       'CO2', 'HCO', 'CH2O', 'CH2OH', 'CH3O', 'CH3OH', 'C2H', 'C2H2', 'C2H3',\n",
    "       'CH3CHO']], size=3);\n",
    "#plt.close()\n",
    "\n"
   ]
  },
  {
   "cell_type": "markdown",
   "metadata": {},
   "source": [
    "# Correlation between data set"
   ]
  },
  {
   "cell_type": "code",
   "execution_count": null,
   "metadata": {},
   "outputs": [],
   "source": [
    "# Correlation between the data\n",
    "plt.figure(figsize=(16,10))\n",
    "sns.heatmap(df[col_study].corr(), annot=True)\n",
    "plt.title(\"Correlation between data set\")\n",
    "#plt.close()"
   ]
  },
  {
   "cell_type": "code",
   "execution_count": null,
   "metadata": {},
   "outputs": [],
   "source": [
    "temp = df['T (K)'].values.reshape(-1,1)"
   ]
  },
  {
   "cell_type": "code",
   "execution_count": null,
   "metadata": {},
   "outputs": [],
   "source": [
    "H2O = df['H2O'].values"
   ]
  },
  {
   "cell_type": "code",
   "execution_count": null,
   "metadata": {},
   "outputs": [],
   "source": []
  },
  {
   "cell_type": "code",
   "execution_count": null,
   "metadata": {},
   "outputs": [],
   "source": [
    "plt.figure(figsize=(6,6));\n",
    "x = df['T (K)'].values\n",
    "y = df['H2O'].values\n",
    "plt.scatter(x, y);\n",
    "plt.xlabel('T (K)')\n",
    "plt.ylabel(\"H2O\")\n",
    "#plt.close()"
   ]
  },
  {
   "cell_type": "code",
   "execution_count": null,
   "metadata": {},
   "outputs": [],
   "source": []
  }
 ],
 "metadata": {
  "kernelspec": {
   "display_name": "Python [default]",
   "language": "python",
   "name": "python3"
  },
  "language_info": {
   "codemirror_mode": {
    "name": "ipython",
    "version": 3
   },
   "file_extension": ".py",
   "mimetype": "text/x-python",
   "name": "python",
   "nbconvert_exporter": "python",
   "pygments_lexer": "ipython3",
   "version": "3.6.5"
  }
 },
 "nbformat": 4,
 "nbformat_minor": 2
}
